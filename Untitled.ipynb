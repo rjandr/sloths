{
 "cells": [
  {
   "cell_type": "code",
   "execution_count": 18,
   "metadata": {
    "scrolled": true
   },
   "outputs": [
    {
     "name": "stdout",
     "output_type": "stream",
     "text": [
      "['AACAATGGAGATGTTCTAATGACCATCTGCGGTGCAATCCAGTTAGAAAA', 'GTTCAAGTCCCGGTTGTTTTTGACCAAGGGAGATGGAGAAGGCAACCCCC']\n",
      "['TGACGATACCATATGCTTTAAACTCATTCTATTCTCGGACTACACCAACCAACCCCTGTACTCTACTCAAGCATACTCTAAAATAGAAAGATAAAACTTG', 'GAACAGGGGGAGGGCAAACCCGCACCGTTTGAGTCCTGTTATACTGTCGACATACTATGGTAGCTGCTTTAGGTTACGGTACGATCACAACCCGCAATAA']\n",
      "['GCGGGCCAGGCCTTCCGACCATTCAAGTAGCATATCCTGGCCATGATTACGCAATGAAAGATGCGAAATAGGCCAGGATTGTGCACGAACTGTCAAATGGTTAGTAGGCCAGTCAACGCGAAAACGGTAGACAAAAAGGGGTTTGCTATGACCGGCGTGTCGTACTGCTAGGATTATTGCAGGCATCCTAACTCTGACCAGGATACCATCGAAACCTCCCCGATATATCTACCTAGAACTGACTGAGGATGACGCACCCCACTGACACAGAGCATTTTGAATCCTCCGAGTCAAGCAAACTCCACAGACGTTATACAGTAACCGGCAAACTCTCGACCCTACGTCAGGCAGCAACACTATCGCCTTGCCAGCAATCGGTTTATATTAAAATTACACACATTAACATTGTTCAAAGTGACGTAGTGTACTGATAGTAAGCCACGGTGTTTTTTAGTTACAAGTTTAATGGGGAACATCACAGAGTAAGCGCGGCCCGGCCGAGTGTATGCCCATAACATCCAATGCCAGCCAGCTTAACAAGCCTCGTCTCTAGGAACCCGAGAGTATTCGTCGGAGCGCGTAGACCTAACTGGGGACTGATCTTACGTCGAGCCGAAATTCAACGGGACGTGGTTTGAAGGAGTACTGCGCCCAACCCAAGCATGAAATTAACTAATCACTCCCGCAGTCCTATCCCATGTCTTGTTCGGTGAAACGGTGCGTGTTCACGGTAGACACCGTGATAATCCAAGAGTAATCACACGAAAAAAGCGATTTCTAAAAAAATCCCCACGCGTGATAGCACAAGAATGCTTATTACAAAAATGGGTATAAATGATTCACTATACAGTCTAAGGGATGTACTCTGTGCAGTTAGAGTAATCCACACCGTTATAGGGCGGTAACGAAGTGTGCGTAGCGGCCTGTTTTCATGGTACACTATGAATCAATAAAACGTTCTTGTAGCTTAGGCGCTGACTCTAATCCTACTGATTGTAAA', 'TCTATAATTCAAAAGGGAGCGAAGACATAACAGAGGCAGGCCGACTGAAAGAGATGAAATATTTTGATGATGTAGACGACGAATCCGTAAATCGAGCCCTTCCGGCTTGTAAATCTACATCGAGTCGGTCAAGCATAGGGCAGATCTTACTCGCCGGAGCCCTGGCCAGGTAAGCATAGGACCAGCAGTTCACAATGATACCAGGATGGCGGTCATTCCCGCCCGGTACGCAGTATATGCCATTGTAGGACGGAGATCGGCCGAGACAGGTTAACACTGGTAAAAGATGCCCAAACATAATAGAAACACACAGACAATGAACGATCAGCGTAACGCTCTCGGCGGGACCTGAAGCAGCCGATTTGCGGAAAAGAACGCCCAGATATATGGGCAAGTCACTAGTAGGTCCAGTGCCGGGGGCCATCACCTGTCACCGGAATCGCCGAATAGAACCCCGTTGAAGAAACCTGATGGCGGACTGAGCTGACGAAGGCGCTTACACACATCGATCGGTCATAGAAACACTAACGCATTTTCGCGTTAGTCCCTCTTTGGTACCTAACACCTACAGAGATTGTATAGGAAGAGGATCCACGCATAGTCGAGAAGTGATTCTGACCGATTCGGAAAAGTCGGGAGTCAACTCAGCAGGTGGACAATTTTGCGATGCAGGCCGACGCCCGGTAGTACAGAAGTCCCGACCGCAGAGTGAAGCAACGCAGAGATGACCGATCAGATCTGTTTGTGGTGACCCACTATGTCATAGGCCATGCCGTGCATTTGGACTGCTTAAACAGTAGTGCCTCACGGGGATATATAGGAAGCGCTAACAATGGTTAAAAGGCTTTCAAACGTCATGCACTTAACAAGAATAATCCACGCAATTGAACTACGTTCATTAGACCGTACTGGGCCGTCCTCCCTGGAACGTTGTTTCACTACAATCATATTCAGGGAATTCACATTGGTACCGGCGCATGGGATTCAATGGCGATAGAAA']\n"
     ]
    }
   ],
   "source": [
    "import sys\n",
    "import random\n",
    "from random import choice\n",
    "import numpy as np\n",
    "import scipy\n",
    "from scipy.linalg import expm\n",
    "\n",
    "# Pi = 0-A 1-C  2-G  3-T\n",
    "p = [.298,.249,.232,.221]\n",
    "\n",
    "#Rate = 0AC   1AG    2AT    3CG   4CT   5GT(constrainte)\n",
    "g = [3.821,21.193,2.614,2.567,34.546, 1.000]\n",
    "\n",
    "nucs = [\"A\",\"C\",\"G\",\"T\"]\n",
    "\"\"\"\n",
    "Q=[A*AA, C*AC, G*AG, T*AT \n",
    "   A*AC, C*CC, G*CG, T*CT\n",
    "   A*AG, C*GC, G*GG, T*GT\n",
    "   A*AT, C*TC, G*TG, T*TT]\n",
    "\"\"\"\n",
    "AA = float(-(p[1]*g[0]+p[2]*g[1]+p[3]*g[2]))\n",
    "CC = float(-(p[0]*g[0]+p[2]*g[3]+p[3]*g[4]))\n",
    "GG = float(-(p[0]*g[1]+p[1]*g[3]+p[3]*g[5]))\n",
    "TT = float(-(p[0]*g[2]+p[1]*g[4]+p[2]*g[5]))\n",
    "\n",
    "A = np.array(\n",
    "     [[AA,p[1]*g[0],p[2]*g[1],p[3]*g[2]],\n",
    "     [p[0]*g[0],CC,p[2]*g[3],p[3]*g[4]],\n",
    "     [p[0]*g[1],p[1]*g[3],GG,p[3]*g[5]],\n",
    "     [p[0]*g[2],p[1]*g[4],p[2]*g[5], TT]]\n",
    ")\n",
    "\n",
    "# A_s = -divide(A,(.25*(-1/16.0 * 3))*4)\n",
    "# A_s\n",
    "\n",
    "# print(A)\n",
    "\n",
    "norm_factor = -(p[0]*AA + p[1]*CC + p[2]*GG + p[3]*TT)\n",
    "\n",
    "A_s = (np.divide(A, norm_factor))\n",
    "# print(A_s)\n",
    "\n",
    "P = expm(A_s)\n",
    "# print(type(P[0,0]))\n",
    "\n",
    "def RandomSeq(length, p):\n",
    "    DNA = \"\"\n",
    "    for count in range(length):\n",
    "        DNA+=np.random.choice(nucs, p = p)\n",
    "        #DNA+=np.random.choice(nucs, p) \n",
    "    return DNA\n",
    "\n",
    "rand50 = RandomSeq(50,p)\n",
    "# print(rand50)\n",
    "\n",
    "\n",
    "def RandomAlignment(length, p, P):\n",
    "    \n",
    "    DNA1 = \"\"\n",
    "    DNA2 = \"\"\n",
    "    for count in range(length):\n",
    "        nuc1 = np.random.choice(nucs, p = p)\n",
    "        DNA1+=nuc1\n",
    "        #DNA+=np.random.choice(nucs, p)\n",
    "        if nuc1 == \"A\":\n",
    "            nuc2 = np.random.choice(nucs, p = P[0])\n",
    "        elif nuc1 == \"C\":\n",
    "            nuc2 = np.random.choice(nucs, p = P[1])\n",
    "        elif nuc1 == \"G\":\n",
    "            nuc2 = np.random.choice(nucs, p = P[2])\n",
    "        elif nuc1 == \"T\":\n",
    "            nuc2 = np.random.choice(nucs, p = P[3])\n",
    "        else:\n",
    "            RaiseError(\"ERROR\")\n",
    "       \n",
    "        DNA2+=nuc2\n",
    "\n",
    "    alignment = [DNA1, DNA2]\n",
    "    return alignment;\n",
    "\n",
    "P1 = np.linalg.matrix_power(P, 1)\n",
    "\n",
    "randTest50 = RandomAlignment(50, p, np.linalg.matrix_power(P, 16))\n",
    "print(randTest50)\n",
    "\n",
    "randTest100 = RandomAlignment(100, p, np.linalg.matrix_power(P, 16))\n",
    "print(randTest100)\n",
    "\n",
    "randTest1000 = RandomAlignment(1000, p, np.linalg.matrix_power(P, 16))\n",
    "print(randTest1000)"
   ]
  },
  {
   "cell_type": "code",
   "execution_count": 11,
   "metadata": {},
   "outputs": [
    {
     "name": "stdout",
     "output_type": "stream",
     "text": [
      "1.0\n"
     ]
    }
   ],
   "source": [
    "print(sum(P[0]))"
   ]
  },
  {
   "cell_type": "code",
   "execution_count": null,
   "metadata": {},
   "outputs": [],
   "source": []
  },
  {
   "cell_type": "code",
   "execution_count": null,
   "metadata": {},
   "outputs": [],
   "source": []
  }
 ],
 "metadata": {
  "kernelspec": {
   "display_name": "Python 3",
   "language": "python",
   "name": "python3"
  },
  "language_info": {
   "codemirror_mode": {
    "name": "ipython",
    "version": 3
   },
   "file_extension": ".py",
   "mimetype": "text/x-python",
   "name": "python",
   "nbconvert_exporter": "python",
   "pygments_lexer": "ipython3",
   "version": "3.7.0"
  }
 },
 "nbformat": 4,
 "nbformat_minor": 2
}
